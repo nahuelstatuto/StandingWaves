{
 "cells": [
  {
   "cell_type": "code",
   "execution_count": 2,
   "metadata": {},
   "outputs": [
    {
     "data": {
      "text/html": [
       "<script>\n",
       "code_show=true; \n",
       "function code_toggle() {\n",
       " if (code_show){\n",
       " $('div.input').hide();\n",
       " } else {\n",
       " $('div.input').show();\n",
       " }\n",
       " code_show = !code_show\n",
       "} \n",
       "$( document ).ready(code_toggle);\n",
       "</script>\n",
       "Puedo decidir mostrar o no el Código! Para mostrar: <a href=\"javascript:code_toggle()\">here</a>."
      ],
      "text/plain": [
       "<IPython.core.display.HTML object>"
      ]
     },
     "execution_count": 2,
     "metadata": {},
     "output_type": "execute_result"
    }
   ],
   "source": [
    "%matplotlib inline\n",
    "from IPython.display import HTML\n",
    "\n",
    "HTML('''<script>\n",
    "code_show=true; \n",
    "function code_toggle() {\n",
    " if (code_show){\n",
    " $('div.input').hide();\n",
    " } else {\n",
    " $('div.input').show();\n",
    " }\n",
    " code_show = !code_show\n",
    "} \n",
    "$( document ).ready(code_toggle);\n",
    "</script>\n",
    "Puedo decidir mostrar o no el Código! Para mostrar: <a href=\"javascript:code_toggle()\">here</a>.''')\n"
   ]
  },
  {
   "cell_type": "code",
   "execution_count": 7,
   "metadata": {},
   "outputs": [
    {
     "data": {
      "application/vnd.jupyter.widget-view+json": {
       "model_id": "f391f014698443a88430b766740c4c91"
      }
     },
     "metadata": {},
     "output_type": "display_data"
    }
   ],
   "source": [
    "%matplotlib inline\n",
    "from __future__ import print_function\n",
    "from ipywidgets import interact, interactive, fixed, interact_manual\n",
    "from ipywidgets import FloatSlider\n",
    "import ipywidgets as widgets\n",
    "import matplotlib.pyplot as plt\n",
    "import numpy as np\n",
    "\n",
    "\n",
    "plt.rcParams[\"figure.figsize\"] = (20,10)\n",
    "\n",
    "def f(eps, r1, phi, phiRel):\n",
    "    plt.figure(2)\n",
    "    x = np.linspace(0, 1, num=200)\n",
    "    #plt.plot(x, np.sin(2*np.pi*x*fre) + m * x*x + m*(b+4)*x + 5*b)\n",
    "    plt.plot(x, np.sqrt((eps*np.cos(2*np.pi*x)-(-1+eps)*np.cos(2*np.pi*(x-phiRel))+r1*eps*np.cos(2*np.pi*(x-phi))-r1*(-1+eps)*np.cos(2*np.pi*(x+phiRel+phi)))**2+(eps*np.sin(2*np.pi*x)+(-1+eps)*np.sin(2*np.pi*(x-phiRel))-r1*eps*np.sin(2*np.pi*(x-phi))-r1*(-1+eps)*np.sin(2*np.pi*(x+phiRel+phi)))**2), linewidth=3)\n",
    "    plt.ylim(0, 2.1)\n",
    "    plt.show()\n",
    "\n",
    "interactive_plot = interactive(f, eps=FloatSlider(min=0.00, max=1.00, step=0.01, value=0.5, description='RF1 power'), r1=FloatSlider(min=0.00, max=1.00, step=0.01, value=0.0, description='Reflexion'), phi=FloatSlider(min=0.00, max=2*np.pi, step=0.01, value=0.0, description='Phase'), phiRel=FloatSlider(min=0.00, max=2*np.pi, step=0.01, value=0.0, description='Realtiv Phase'))\n",
    "output = interactive_plot.children[-1]\n",
    "output.layout.height = '500px'\n",
    "interactive_plot\n"
   ]
  },
  {
   "cell_type": "code",
   "execution_count": null,
   "metadata": {
    "collapsed": true
   },
   "outputs": [],
   "source": []
  }
 ],
 "metadata": {
  "kernelspec": {
   "display_name": "Python 3",
   "language": "python",
   "name": "python3"
  },
  "language_info": {
   "codemirror_mode": {
    "name": "ipython",
    "version": 3
   },
   "file_extension": ".py",
   "mimetype": "text/x-python",
   "name": "python",
   "nbconvert_exporter": "python",
   "pygments_lexer": "ipython3",
   "version": "3.6.1"
  }
 },
 "nbformat": 4,
 "nbformat_minor": 2
}
